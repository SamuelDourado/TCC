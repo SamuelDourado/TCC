{
  "nbformat": 4,
  "nbformat_minor": 0,
  "metadata": {
    "colab": {
      "name": "TCC - prepering the dataset.ipynb",
      "provenance": [],
      "collapsed_sections": [],
      "authorship_tag": "ABX9TyP/68I2p2vHsidNxaIUO2+k",
      "include_colab_link": true
    },
    "kernelspec": {
      "name": "python3",
      "display_name": "Python 3"
    }
  },
  "cells": [
    {
      "cell_type": "markdown",
      "metadata": {
        "id": "view-in-github",
        "colab_type": "text"
      },
      "source": [
        "<a href=\"https://colab.research.google.com/github/SamuelDourado/TCC/blob/master/TCC_prepering_the_dataset.ipynb\" target=\"_parent\"><img src=\"https://colab.research.google.com/assets/colab-badge.svg\" alt=\"Open In Colab\"/></a>"
      ]
    },
    {
      "cell_type": "markdown",
      "metadata": {
        "id": "YBVgztOgegcs",
        "colab_type": "text"
      },
      "source": [
        "# **Dowload de **"
      ]
    },
    {
      "cell_type": "markdown",
      "metadata": {
        "id": "VQ1hiqpqfaFx",
        "colab_type": "text"
      },
      "source": [
        "# **Download de Arquivos**\n",
        "Download de MIDIS e DataBase Pianos Syllabus em formato de CSV."
      ]
    },
    {
      "cell_type": "code",
      "metadata": {
        "id": "z63rMMHrRfFF",
        "colab_type": "code",
        "colab": {}
      },
      "source": [
        "!!pip install PyDrive"
      ],
      "execution_count": null,
      "outputs": []
    },
    {
      "cell_type": "code",
      "metadata": {
        "id": "p3iPeHLHSSeL",
        "colab_type": "code",
        "colab": {
          "base_uri": "https://localhost:8080/",
          "height": 169
        },
        "outputId": "ce143bbf-f470-4ce5-a1ff-a9f947092c9b"
      },
      "source": [
        "# MIDI File From MuseScore: https://drive.google.com/file/d/1nkemXftPJAxFggieBUP7Hqnchi8JDsHS/view?usp=sharing\n",
        "# Syllabus Database in CSV: https://drive.google.com/file/d/1NcUrHwC9UXlongaV9c3Rk4lAO8w9EOBX/view?usp=sharing\n",
        "fileId = '1nkemXftPJAxFggieBUP7Hqnchi8JDsHS'\n",
        "fileId2 = '1NcUrHwC9UXlongaV9c3Rk4lAO8w9EOBX'\n",
        "MIDI_PATH = 'MIDI'\n",
        "SYLLABUS_DATABASE_PATH = 'musicas syllabus.csv'\n",
        "\n",
        "!gdown --id $fileId \n",
        "!gdown --id $fileId2"
      ],
      "execution_count": 3,
      "outputs": [
        {
          "output_type": "stream",
          "text": [
            "Downloading...\n",
            "From: https://drive.google.com/uc?id=1nkemXftPJAxFggieBUP7Hqnchi8JDsHS\n",
            "To: /content/midis.zip\n",
            "100% 2.05M/2.05M [00:00<00:00, 65.1MB/s]\n",
            "Downloading...\n",
            "From: https://drive.google.com/uc?id=1NcUrHwC9UXlongaV9c3Rk4lAO8w9EOBX\n",
            "To: /content/musicas syllabus.csv\n",
            "100% 893k/893k [00:00<00:00, 28.0MB/s]\n"
          ],
          "name": "stdout"
        }
      ]
    },
    {
      "cell_type": "code",
      "metadata": {
        "id": "dpAedfHUQ7y6",
        "colab_type": "code",
        "colab": {}
      },
      "source": [
        "# Criar pasta para MIDIS.\n",
        "!mkdir $MIDI_PATH\n",
        "!unzip midis.zip -d $MIDI_PATH"
      ],
      "execution_count": null,
      "outputs": []
    },
    {
      "cell_type": "code",
      "metadata": {
        "id": "LrO6qaDUWrb2",
        "colab_type": "code",
        "colab": {
          "base_uri": "https://localhost:8080/",
          "height": 55
        },
        "outputId": "8060e4c8-6312-44a2-9291-962748a8f225"
      },
      "source": [
        "# Ler Arquivos da MIDI_PATH para montar um Array($midiFiles) do tipo [id,pathFile]\n",
        "from os import listdir\n",
        "from os.path import isfile, isdir\n",
        "midiFolders =  listdir(MIDI_PATH)\n",
        "midiFiles = []\n",
        "\n",
        "for folder in midiFolders:\n",
        "    if isdir(f'{MIDI_PATH}/{folder}'):\n",
        "        midiFile =  listdir(f'{MIDI_PATH}/{folder}')\n",
        "        midiFiles.append([folder, f'{MIDI_PATH}/{folder}/{midiFile[0]}'])\n",
        "\n",
        "print(f'{len(midiFiles)} Found files.')\n",
        "print(f'Format: {midiFiles[0]}')"
      ],
      "execution_count": 5,
      "outputs": [
        {
          "output_type": "stream",
          "text": [
            "704 Found files.\n",
            "Format: ['11049', 'MIDI/11049/Minuet and Trio in E Major.mid']\n"
          ],
          "name": "stdout"
        }
      ]
    },
    {
      "cell_type": "code",
      "metadata": {
        "id": "VDP_FNkodq6z",
        "colab_type": "code",
        "colab": {
          "base_uri": "https://localhost:8080/",
          "height": 36
        },
        "outputId": "3095b1e1-27e4-4824-f6a6-1d74153641fb"
      },
      "source": [
        "# Ler Syllabus Database de Arquivo CSV(SYLLABUS_DATABASE_PATH) para Array(syllabusDB).\n",
        "import csv\n",
        "\n",
        "syllabusDB  = []\n",
        "with open(SYLLABUS_DATABASE_PATH) as csvDataFile:\n",
        "    csvReader = csv.reader(csvDataFile);\n",
        "    for row in csvReader:\n",
        "        syllabusDB.append(row)\n",
        "syllabusDB[0][5]       "
      ],
      "execution_count": 6,
      "outputs": [
        {
          "output_type": "execute_result",
          "data": {
            "application/vnd.google.colaboratory.intrinsic+json": {
              "type": "string"
            },
            "text/plain": [
              "'3'"
            ]
          },
          "metadata": {
            "tags": []
          },
          "execution_count": 6
        }
      ]
    },
    {
      "cell_type": "code",
      "metadata": {
        "id": "zs05atkNjeCX",
        "colab_type": "code",
        "colab": {}
      },
      "source": [
        "# Define função para buscar no Array do Syllabus Database(syllabusDB) música(peace) por id.\n",
        "def findPeaceById(id):\n",
        "    for peace in syllabusDB:\n",
        "        if peace[0] == id:\n",
        "            return peace\n",
        "    return 0"
      ],
      "execution_count": 7,
      "outputs": []
    },
    {
      "cell_type": "code",
      "metadata": {
        "id": "rbn5C--Ukc4g",
        "colab_type": "code",
        "colab": {}
      },
      "source": [
        "# Criar Pastas para guardar grupo de dados(dataset).\n",
        "!mkdir dataset  dataset/0 dataset/1 dataset/2 dataset/3 dataset/4 dataset/5 dataset/6 dataset/7 dataset/8 dataset/9 dataset/10 "
      ],
      "execution_count": 8,
      "outputs": []
    },
    {
      "cell_type": "code",
      "metadata": {
        "id": "-YpQPWBApT_B",
        "colab_type": "code",
        "colab": {
          "base_uri": "https://localhost:8080/",
          "height": 112
        },
        "outputId": "c92469e9-7c6a-48e4-f6a5-eeed99b33de0"
      },
      "source": [
        "# Installing Mido library\n",
        "!pip install mido==1.2.9"
      ],
      "execution_count": 9,
      "outputs": [
        {
          "output_type": "stream",
          "text": [
            "Collecting mido==1.2.9\n",
            "\u001b[?25l  Downloading https://files.pythonhosted.org/packages/20/0a/81beb587b1ae832ea6a1901dc7c6faa380e8dd154e0a862f0a9f3d2afab9/mido-1.2.9-py2.py3-none-any.whl (52kB)\n",
            "\r\u001b[K     |██████▎                         | 10kB 14.1MB/s eta 0:00:01\r\u001b[K     |████████████▌                   | 20kB 1.7MB/s eta 0:00:01\r\u001b[K     |██████████████████▊             | 30kB 2.2MB/s eta 0:00:01\r\u001b[K     |█████████████████████████       | 40kB 2.4MB/s eta 0:00:01\r\u001b[K     |███████████████████████████████▏| 51kB 2.0MB/s eta 0:00:01\r\u001b[K     |████████████████████████████████| 61kB 1.6MB/s \n",
            "\u001b[?25hInstalling collected packages: mido\n",
            "Successfully installed mido-1.2.9\n"
          ],
          "name": "stdout"
        }
      ]
    },
    {
      "cell_type": "code",
      "metadata": {
        "id": "3alNA4seSwzJ",
        "colab_type": "code",
        "colab": {}
      },
      "source": [
        "# Define função para transformar mensagens de arquivo midi em lista de Bytes.\n",
        "def midiToBytes(mid):\n",
        "    midiBytes = []\n",
        "    for track in mid.tracks:\n",
        "        for msg in track:\n",
        "            msgBytes = msg.bytes()\n",
        "            if msgBytes[0] >= 128 and msgBytes[0] <= 159:\n",
        "                msgBytes.append(msg.time)\n",
        "                midiBytes.append(msgBytes)\n",
        "    return midiBytes"
      ],
      "execution_count": 11,
      "outputs": []
    },
    {
      "cell_type": "code",
      "metadata": {
        "id": "QkmV1t-TlQfj",
        "colab_type": "code",
        "colab": {}
      },
      "source": [
        "# Cria Array de grupo de dados(dataset) que contem classe e valor. \n",
        "import mido\n",
        "\n",
        "dataset = []\n",
        "for m in midiFiles:\n",
        "    mid = mido.MidiFile(m[1], clip=True) # Open Midi file\n",
        "    classification = findPeaceById(m[0])\n",
        "    midiBytes = midiToBytes(mid)\n",
        "    dataset.append([classification, midiBytes])"
      ],
      "execution_count": 12,
      "outputs": []
    },
    {
      "cell_type": "code",
      "metadata": {
        "id": "a9OloQKqt4Fu",
        "colab_type": "code",
        "colab": {}
      },
      "source": [
        "dataset[2]"
      ],
      "execution_count": null,
      "outputs": []
    },
    {
      "cell_type": "code",
      "metadata": {
        "id": "JWtQ3DLlHrtZ",
        "colab_type": "code",
        "colab": {}
      },
      "source": [
        "import numpy as np\n",
        "\n",
        "for data in dataset:\n",
        "    mid = np.array(data[1])\n",
        "    np.savetxt(f'dataset/{data[0][5]}/{data[0][0]}.txt', data[1], fmt='%i', delimiter ='')"
      ],
      "execution_count": 15,
      "outputs": []
    }
  ]
}